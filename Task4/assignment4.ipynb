{
 "cells": [
  {
   "cell_type": "markdown",
   "metadata": {},
   "source": [
    "# Лабораторная работа 4"
   ]
  },
  {
   "cell_type": "markdown",
   "metadata": {},
   "source": [
    "Tensorflow 2.x\n",
    "\n",
    "1) Подготовка данных\n",
    "\n",
    "2) Использование Keras Model API\n",
    "\n",
    "3) Использование Keras Sequential + Functional API"
   ]
  },
  {
   "cell_type": "markdown",
   "metadata": {},
   "source": [
    "https://www.tensorflow.org/tutorials"
   ]
  },
  {
   "cell_type": "markdown",
   "metadata": {},
   "source": [
    "Для выполнения лабораторной работы необходимо установить tensorflow версии 2.0 или выше .\n",
    "\n",
    "Рекомендуется использовать возможности Colab'а по обучению моделей на GPU.\n",
    "\n"
   ]
  },
  {
   "cell_type": "code",
   "execution_count": 7,
   "metadata": {},
   "outputs": [],
   "source": [
    "import os\n",
    "import tensorflow as tf\n",
    "import numpy as np\n",
    "import math\n",
    "import timeit\n",
    "import matplotlib.pyplot as plt\n",
    "\n",
    "%matplotlib inline"
   ]
  },
  {
   "cell_type": "markdown",
   "metadata": {},
   "source": [
    "# Подготовка данных\n",
    "Загрузите набор данных из предыдущей лабораторной работы. "
   ]
  },
  {
   "cell_type": "code",
   "execution_count": 8,
   "metadata": {},
   "outputs": [
    {
     "name": "stdout",
     "output_type": "stream",
     "text": [
      "Train data shape:  (49000, 28, 28, 1)\n",
      "Train labels shape:  (49000,) int32\n",
      "Validation data shape:  (1000, 28, 28, 1)\n",
      "Validation labels shape:  (1000,)\n",
      "Test data shape:  (10000, 28, 28, 1)\n",
      "Test labels shape:  (10000,)\n"
     ]
    }
   ],
   "source": [
    "def load_mnist(num_training=49000, num_validation=1000, num_test=10000):\n",
    "    \"\"\"\n",
    "    Fetch the mnist dataset from the web and perform preprocessing to prepare\n",
    "    it for the two-layer neural net classifier. These are the same steps as\n",
    "    we used for the SVM, but condensed to a single function.\n",
    "    \"\"\"\n",
    "    # Load the raw mnist dataset and use appropriate data types and shapes\n",
    "    mnist = tf.keras.datasets.mnist.load_data()\n",
    "    (X_train, y_train), (X_test, y_test) = mnist\n",
    "    X_train = np.asarray(X_train, dtype=np.float32)\n",
    "    y_train = np.asarray(y_train, dtype=np.int32).flatten()\n",
    "    X_test = np.asarray(X_test, dtype=np.float32)\n",
    "    y_test = np.asarray(y_test, dtype=np.int32).flatten()\n",
    "\n",
    "    # Subsample the data\n",
    "    mask = range(num_training, num_training + num_validation)\n",
    "    X_val = X_train[mask]\n",
    "    y_val = y_train[mask]\n",
    "    mask = range(num_training)\n",
    "    X_train = X_train[mask]\n",
    "    y_train = y_train[mask]\n",
    "    mask = range(num_test)\n",
    "    X_test = X_test[mask]\n",
    "    y_test = y_test[mask]\n",
    "\n",
    "    # Normalize the data: subtract the mean pixel and divide by std\n",
    "    mean_pixel = X_train.mean(axis=(0, 1, 2), keepdims=True)\n",
    "    std_pixel = X_train.std(axis=(0, 1, 2), keepdims=True)\n",
    "    X_train = (X_train - mean_pixel) / std_pixel\n",
    "    X_val = (X_val - mean_pixel) / std_pixel\n",
    "    X_test = (X_test - mean_pixel) / std_pixel\n",
    "\n",
    "    return X_train, y_train, X_val, y_val, X_test, y_test\n",
    "\n",
    "# If there are errors with SSL downloading involving self-signed certificates,\n",
    "# it may be that your Python version was recently installed on the current machine.\n",
    "# See: https://github.com/tensorflow/tensorflow/issues/10779\n",
    "# To fix, run the command: /Applications/Python\\ 3.7/Install\\ Certificates.command\n",
    "#   ...replacing paths as necessary.\n",
    "\n",
    "# Invoke the above function to get our data.\n",
    "NHW = (0, 1, 2)\n",
    "X_train, y_train, X_val, y_val, X_test, y_test = load_mnist()\n",
    "X_train = X_train.reshape(-1, 28, 28, 1)\n",
    "X_val = X_val.reshape(-1, 28, 28, 1)\n",
    "X_test = X_test.reshape(-1, 28, 28, 1)\n",
    "print('Train data shape: ', X_train.shape)\n",
    "print('Train labels shape: ', y_train.shape, y_train.dtype)\n",
    "print('Validation data shape: ', X_val.shape)\n",
    "print('Validation labels shape: ', y_val.shape)\n",
    "print('Test data shape: ', X_test.shape)\n",
    "print('Test labels shape: ', y_test.shape)"
   ]
  },
  {
   "cell_type": "code",
   "execution_count": 9,
   "metadata": {},
   "outputs": [],
   "source": [
    "class Dataset(object):\n",
    "    def __init__(self, X, y, batch_size, shuffle=False):\n",
    "        \"\"\"\n",
    "        Construct a Dataset object to iterate over data X and labels y\n",
    "        \n",
    "        Inputs:\n",
    "        - X: Numpy array of data, of any shape\n",
    "        - y: Numpy array of labels, of any shape but with y.shape[0] == X.shape[0]\n",
    "        - batch_size: Integer giving number of elements per minibatch\n",
    "        - shuffle: (optional) Boolean, whether to shuffle the data on each epoch\n",
    "        \"\"\"\n",
    "        assert X.shape[0] == y.shape[0], 'Got different numbers of data and labels'\n",
    "        self.X, self.y = X, y\n",
    "        self.batch_size, self.shuffle = batch_size, shuffle\n",
    "\n",
    "    def __iter__(self):\n",
    "        N, B = self.X.shape[0], self.batch_size\n",
    "        idxs = np.arange(N)\n",
    "        if self.shuffle:\n",
    "            np.random.shuffle(idxs)\n",
    "        return iter((self.X[i:i+B], self.y[i:i+B]) for i in range(0, N, B))\n",
    "\n",
    "\n",
    "train_dset = Dataset(X_train, y_train, batch_size=64, shuffle=True)\n",
    "val_dset = Dataset(X_val, y_val, batch_size=64, shuffle=False)\n",
    "test_dset = Dataset(X_test, y_test, batch_size=64)"
   ]
  },
  {
   "cell_type": "code",
   "execution_count": 10,
   "metadata": {},
   "outputs": [
    {
     "name": "stdout",
     "output_type": "stream",
     "text": [
      "0 (64, 28, 28, 1) (64,)\n",
      "1 (64, 28, 28, 1) (64,)\n",
      "2 (64, 28, 28, 1) (64,)\n",
      "3 (64, 28, 28, 1) (64,)\n",
      "4 (64, 28, 28, 1) (64,)\n",
      "5 (64, 28, 28, 1) (64,)\n",
      "6 (64, 28, 28, 1) (64,)\n"
     ]
    }
   ],
   "source": [
    "# We can iterate through a dataset like this:\n",
    "for t, (x, y) in enumerate(train_dset):\n",
    "    print(t, x.shape, y.shape)\n",
    "    if t > 5: break"
   ]
  },
  {
   "cell_type": "markdown",
   "metadata": {},
   "source": []
  },
  {
   "cell_type": "markdown",
   "metadata": {},
   "source": [
    "\n"
   ]
  },
  {
   "cell_type": "markdown",
   "metadata": {},
   "source": [
    "#  Keras Model Subclassing API"
   ]
  },
  {
   "cell_type": "markdown",
   "metadata": {},
   "source": [
    "\n",
    "Для реализации собственной модели с помощью Keras Model Subclassing API необходимо выполнить следующие шаги:\n",
    "\n",
    "1) Определить новый класс, который является наследником tf.keras.Model.\n",
    "\n",
    "2) В методе __init__() определить все необходимые слои из модуля tf.keras.layer\n",
    "\n",
    "3) Реализовать прямой проход в методе call() на основе слоев, объявленных в __init__()\n",
    "\n",
    "Ниже приведен пример использования keras API для определения двухслойной полносвязной сети. \n",
    "\n",
    "https://www.tensorflow.org/versions/r2.0/api_docs/python/tf/keras"
   ]
  },
  {
   "cell_type": "code",
   "execution_count": 11,
   "metadata": {},
   "outputs": [
    {
     "name": "stdout",
     "output_type": "stream",
     "text": [
      "Using device:  /CPU:0\n"
     ]
    }
   ],
   "source": [
    "device = '/CPU:0'\n",
    "initializer = tf.initializers.VarianceScaling(scale=2.0, seed=42)\n",
    "print('Using device: ', device)"
   ]
  },
  {
   "cell_type": "code",
   "execution_count": 12,
   "metadata": {},
   "outputs": [
    {
     "name": "stdout",
     "output_type": "stream",
     "text": [
      "(64, 10)\n"
     ]
    }
   ],
   "source": [
    "class TwoLayerFC(tf.keras.Model):\n",
    "    def __init__(self, hidden_size, num_classes):\n",
    "        super(TwoLayerFC, self).__init__()        \n",
    "        initializer = tf.initializers.VarianceScaling(scale=2.0)\n",
    "        self.fc1 = tf.keras.layers.Dense(hidden_size, activation='relu',\n",
    "                                   kernel_initializer=initializer)\n",
    "        self.fc2 = tf.keras.layers.Dense(num_classes, activation='softmax',\n",
    "                                   kernel_initializer=initializer)\n",
    "        self.flatten = tf.keras.layers.Flatten()\n",
    "    \n",
    "    def call(self, x, training=False):\n",
    "        x = self.flatten(x)\n",
    "        x = self.fc1(x)\n",
    "        x = self.fc2(x)\n",
    "        return x\n",
    "\n",
    "\n",
    "def test_TwoLayerFC():\n",
    "    \"\"\" A small unit test to exercise the TwoLayerFC model above. \"\"\"\n",
    "    input_size, hidden_size, num_classes = 50, 42, 10\n",
    "    x = tf.zeros((64, input_size))\n",
    "    model = TwoLayerFC(hidden_size, num_classes)\n",
    "    with tf.device(device):\n",
    "        scores = model(x)\n",
    "        print(scores.shape)\n",
    "        \n",
    "test_TwoLayerFC()"
   ]
  },
  {
   "cell_type": "markdown",
   "metadata": {},
   "source": [
    "Реализуйте трехслойную CNN для вашей задачи классификации. \n",
    "\n",
    "Архитектура сети:\n",
    "    \n",
    "1. Сверточный слой (5 x 5 kernels, zero-padding = 'same')\n",
    "2. Функция активации ReLU \n",
    "3. Сверточный слой (3 x 3 kernels, zero-padding = 'same')\n",
    "4. Функция активации ReLU \n",
    "5. Полносвязный слой \n",
    "6. Функция активации Softmax \n",
    "\n",
    "https://www.tensorflow.org/versions/r2.0/api_docs/python/tf/keras/layers/Conv2D\n",
    "\n",
    "https://www.tensorflow.org/versions/r2.0/api_docs/python/tf/keras/layers/Dense"
   ]
  },
  {
   "cell_type": "code",
   "execution_count": 13,
   "metadata": {},
   "outputs": [],
   "source": [
    "class ThreeLayerConvNet(tf.keras.Model):\n",
    "    def __init__(self, channel_1, channel_2, num_classes):\n",
    "        super(ThreeLayerConvNet, self).__init__()\n",
    "        ########################################################################\n",
    "        # TODO: Implement the __init__ method for a three-layer ConvNet. You   #\n",
    "        # should instantiate layer objects to be used in the forward pass.     #\n",
    "        ########################################################################\n",
    "        # *****START OF YOUR CODE (DO NOT DELETE/MODIFY THIS LINE)*****\n",
    "\n",
    "        self.conv1 = tf.keras.layers.Conv2D(channel_1, (5, 5), padding='same', activation='relu')\n",
    "        self.conv2 = tf.keras.layers.Conv2D(channel_2, (3, 3), padding='same', activation='relu')\n",
    "        self.flatten = tf.keras.layers.Flatten()\n",
    "        self.fc = tf.keras.layers.Dense(num_classes, activation='softmax')\n",
    "\n",
    "        # *****END OF YOUR CODE (DO NOT DELETE/MODIFY THIS LINE)*****\n",
    "        ########################################################################\n",
    "        #                           END OF YOUR CODE                           #\n",
    "        ########################################################################\n",
    "        \n",
    "    def call(self, x, training=False):\n",
    "        ########################################################################\n",
    "        # TODO: Implement the forward pass for a three-layer ConvNet. You      #\n",
    "        # should use the layer objects defined in the __init__ method.         #\n",
    "        ########################################################################\n",
    "        # *****START OF YOUR CODE (DO NOT DELETE/MODIFY THIS LINE)*****\n",
    "\n",
    "        x = self.conv1(x)\n",
    "        x = self.conv2(x)\n",
    "        x = self.flatten(x)\n",
    "        scores = self.fc(x)\n",
    "        # *****END OF YOUR CODE (DO NOT DELETE/MODIFY THIS LINE)*****\n",
    "        ########################################################################\n",
    "        #                           END OF YOUR CODE                           #\n",
    "        ########################################################################        \n",
    "        return scores"
   ]
  },
  {
   "cell_type": "code",
   "execution_count": 14,
   "metadata": {},
   "outputs": [
    {
     "name": "stdout",
     "output_type": "stream",
     "text": [
      "(64, 10)\n"
     ]
    }
   ],
   "source": [
    "def test_ThreeLayerConvNet():    \n",
    "    channel_1, channel_2, num_classes = 12, 8, 10\n",
    "    model = ThreeLayerConvNet(channel_1, channel_2, num_classes)\n",
    "    with tf.device(device):\n",
    "        x = tf.zeros((64, 3, 32, 32))\n",
    "        scores = model(x)\n",
    "        print(scores.shape)\n",
    "\n",
    "test_ThreeLayerConvNet()"
   ]
  },
  {
   "cell_type": "markdown",
   "metadata": {},
   "source": [
    "Пример реализации процесса обучения:"
   ]
  },
  {
   "cell_type": "code",
   "execution_count": null,
   "metadata": {},
   "outputs": [],
   "source": []
  },
  {
   "cell_type": "code",
   "execution_count": 15,
   "metadata": {},
   "outputs": [],
   "source": [
    "def train_part34(model_init_fn, optimizer_init_fn, num_epochs=1, is_training=False):\n",
    "    \"\"\"\n",
    "    Simple training loop for use with models defined using tf.keras. It trains\n",
    "    a model for one epoch on the CIFAR-10 training set and periodically checks\n",
    "    accuracy on the CIFAR-10 validation set.\n",
    "    \n",
    "    Inputs:\n",
    "    - model_init_fn: A function that takes no parameters; when called it\n",
    "      constructs the model we want to train: model = model_init_fn()\n",
    "    - optimizer_init_fn: A function which takes no parameters; when called it\n",
    "      constructs the Optimizer object we will use to optimize the model:\n",
    "      optimizer = optimizer_init_fn()\n",
    "    - num_epochs: The number of epochs to train for\n",
    "    \n",
    "    Returns: Nothing, but prints progress during trainingn\n",
    "    \"\"\"    \n",
    "    with tf.device(device):\n",
    "\n",
    "        \n",
    "        loss_fn = tf.keras.losses.SparseCategoricalCrossentropy()\n",
    "        \n",
    "        model = model_init_fn()\n",
    "        optimizer = optimizer_init_fn()\n",
    "        \n",
    "        train_loss = tf.keras.metrics.Mean(name='train_loss')\n",
    "        train_accuracy = tf.keras.metrics.SparseCategoricalAccuracy(name='train_accuracy')\n",
    "    \n",
    "        val_loss = tf.keras.metrics.Mean(name='val_loss')\n",
    "        val_accuracy = tf.keras.metrics.SparseCategoricalAccuracy(name='val_accuracy')\n",
    "        \n",
    "        t = 0\n",
    "        for epoch in range(num_epochs):\n",
    "            \n",
    "            # Reset the metrics - https://www.tensorflow.org/alpha/guide/migration_guide#new-style_metrics\n",
    "            train_loss.reset_states()\n",
    "            train_accuracy.reset_states()\n",
    "            \n",
    "            for x_np, y_np in train_dset:\n",
    "                with tf.GradientTape() as tape:\n",
    "                    \n",
    "                    # Use the model function to build the forward pass.\n",
    "                    scores = model(x_np, training=is_training)\n",
    "                    loss = loss_fn(y_np, scores)\n",
    "      \n",
    "                    gradients = tape.gradient(loss, model.trainable_variables)\n",
    "                    optimizer.apply_gradients(zip(gradients, model.trainable_variables))\n",
    "                    \n",
    "                    # Update the metrics\n",
    "                    train_loss.update_state(loss)\n",
    "                    train_accuracy.update_state(y_np, scores)\n",
    "                    \n",
    "                    if t % print_every == 0:\n",
    "                        val_loss.reset_states()\n",
    "                        val_accuracy.reset_states()\n",
    "                        for test_x, test_y in val_dset:\n",
    "                            # During validation at end of epoch, training set to False\n",
    "                            prediction = model(test_x, training=False)\n",
    "                            t_loss = loss_fn(test_y, prediction)\n",
    "\n",
    "                            val_loss.update_state(t_loss)\n",
    "                            val_accuracy.update_state(test_y, prediction)\n",
    "                        \n",
    "                        template = 'Iteration {}, Epoch {}, Loss: {}, Accuracy: {}, Val Loss: {}, Val Accuracy: {}'\n",
    "                        print (template.format(t, epoch+1,\n",
    "                                             train_loss.result(),\n",
    "                                             train_accuracy.result()*100,\n",
    "                                             val_loss.result(),\n",
    "                                             val_accuracy.result()*100))\n",
    "                    t += 1"
   ]
  },
  {
   "cell_type": "code",
   "execution_count": 16,
   "metadata": {},
   "outputs": [
    {
     "name": "stdout",
     "output_type": "stream",
     "text": [
      "Iteration 0, Epoch 1, Loss: 3.064849376678467, Accuracy: 7.8125, Val Loss: 2.7793993949890137, Val Accuracy: 24.200000762939453\n",
      "Iteration 50, Epoch 1, Loss: 0.8965718746185303, Accuracy: 72.48774719238281, Val Loss: 0.6515597105026245, Val Accuracy: 79.9000015258789\n",
      "Iteration 100, Epoch 1, Loss: 0.6551655530929565, Accuracy: 80.22895812988281, Val Loss: 0.5606053471565247, Val Accuracy: 81.0\n",
      "Iteration 150, Epoch 1, Loss: 0.5784794092178345, Accuracy: 82.77111053466797, Val Loss: 0.5058924555778503, Val Accuracy: 84.4000015258789\n",
      "Iteration 200, Epoch 1, Loss: 0.517216145992279, Accuracy: 84.57711029052734, Val Loss: 0.47161221504211426, Val Accuracy: 85.19999694824219\n",
      "Iteration 250, Epoch 1, Loss: 0.4870522916316986, Accuracy: 85.53286743164062, Val Loss: 0.3995288014411926, Val Accuracy: 88.70000457763672\n",
      "Iteration 300, Epoch 1, Loss: 0.45469731092453003, Accuracy: 86.59676361083984, Val Loss: 0.4065869152545929, Val Accuracy: 87.19999694824219\n",
      "Iteration 350, Epoch 1, Loss: 0.428629994392395, Accuracy: 87.4065170288086, Val Loss: 0.3722769618034363, Val Accuracy: 89.30000305175781\n",
      "Iteration 400, Epoch 1, Loss: 0.40984731912612915, Accuracy: 87.89744567871094, Val Loss: 0.36226963996887207, Val Accuracy: 89.60000610351562\n",
      "Iteration 450, Epoch 1, Loss: 0.3953799903392792, Accuracy: 88.39385223388672, Val Loss: 0.34696799516677856, Val Accuracy: 90.10000610351562\n",
      "Iteration 500, Epoch 1, Loss: 0.38618817925453186, Accuracy: 88.60716247558594, Val Loss: 0.34759610891342163, Val Accuracy: 90.10000610351562\n",
      "Iteration 550, Epoch 1, Loss: 0.3732108473777771, Accuracy: 88.98026275634766, Val Loss: 0.346750944852829, Val Accuracy: 90.30000305175781\n",
      "Iteration 600, Epoch 1, Loss: 0.3626403510570526, Accuracy: 89.29907989501953, Val Loss: 0.3315048813819885, Val Accuracy: 90.69999694824219\n",
      "Iteration 650, Epoch 1, Loss: 0.3530905246734619, Accuracy: 89.60013580322266, Val Loss: 0.29820516705513, Val Accuracy: 91.29999542236328\n",
      "Iteration 700, Epoch 1, Loss: 0.3446241617202759, Accuracy: 89.85823822021484, Val Loss: 0.3127681612968445, Val Accuracy: 91.0999984741211\n",
      "Iteration 750, Epoch 1, Loss: 0.3383932411670685, Accuracy: 90.03411865234375, Val Loss: 0.3073234260082245, Val Accuracy: 90.80000305175781\n"
     ]
    }
   ],
   "source": [
    "hidden_size, num_classes = 4000, 10\n",
    "learning_rate = 1e-2\n",
    "print_every =50\n",
    "def model_init_fn():\n",
    "    return TwoLayerFC(hidden_size, num_classes)\n",
    "\n",
    "def optimizer_init_fn():\n",
    "    return tf.keras.optimizers.SGD(learning_rate=learning_rate)\n",
    "\n",
    "train_part34(model_init_fn, optimizer_init_fn)"
   ]
  },
  {
   "cell_type": "markdown",
   "metadata": {},
   "source": [
    "Обучите трехслойную CNN. В tf.keras.optimizers.SGD укажите Nesterov momentum = 0.9 . \n",
    "\n",
    "https://www.tensorflow.org/versions/r2.0/api_docs/python/tf/optimizers/SGD\n",
    "\n",
    "Значение accuracy на валидационной выборке после 1 эпохи обучения должно быть > 50% ."
   ]
  },
  {
   "cell_type": "code",
   "execution_count": 17,
   "metadata": {},
   "outputs": [
    {
     "name": "stdout",
     "output_type": "stream",
     "text": [
      "Iteration 0, Epoch 1, Loss: 2.3382437229156494, Accuracy: 3.125, Val Loss: 2.3042333126068115, Val Accuracy: 7.0\n",
      "Iteration 50, Epoch 1, Loss: 1.0767600536346436, Accuracy: 67.06495666503906, Val Loss: 0.577302873134613, Val Accuracy: 83.60000610351562\n",
      "Iteration 100, Epoch 1, Loss: 0.7256202101707458, Accuracy: 78.34158325195312, Val Loss: 0.5033233165740967, Val Accuracy: 83.20000457763672\n",
      "Iteration 150, Epoch 1, Loss: 0.6147544980049133, Accuracy: 81.73633575439453, Val Loss: 0.4483001232147217, Val Accuracy: 87.0\n",
      "Iteration 200, Epoch 1, Loss: 0.535682201385498, Accuracy: 84.1262435913086, Val Loss: 0.4032776355743408, Val Accuracy: 87.9000015258789\n",
      "Iteration 250, Epoch 1, Loss: 0.4865170121192932, Accuracy: 85.62002563476562, Val Loss: 0.2721148729324341, Val Accuracy: 91.19999694824219\n",
      "Iteration 300, Epoch 1, Loss: 0.43691545724868774, Accuracy: 87.11067199707031, Val Loss: 0.24511055648326874, Val Accuracy: 92.9000015258789\n",
      "Iteration 350, Epoch 1, Loss: 0.39785224199295044, Accuracy: 88.31463623046875, Val Loss: 0.23578812181949615, Val Accuracy: 92.69999694824219\n",
      "Iteration 400, Epoch 1, Loss: 0.36805543303489685, Accuracy: 89.12484741210938, Val Loss: 0.22308349609375, Val Accuracy: 93.0\n",
      "Iteration 450, Epoch 1, Loss: 0.34503743052482605, Accuracy: 89.85240936279297, Val Loss: 0.2324685901403427, Val Accuracy: 92.5999984741211\n",
      "Iteration 500, Epoch 1, Loss: 0.32697343826293945, Accuracy: 90.36614227294922, Val Loss: 0.19409316778182983, Val Accuracy: 93.5999984741211\n",
      "Iteration 550, Epoch 1, Loss: 0.3081788420677185, Accuracy: 90.91141510009766, Val Loss: 0.19120636582374573, Val Accuracy: 93.80000305175781\n",
      "Iteration 600, Epoch 1, Loss: 0.2936055064201355, Accuracy: 91.35295104980469, Val Loss: 0.20233091711997986, Val Accuracy: 93.69999694824219\n",
      "Iteration 650, Epoch 1, Loss: 0.2793456017971039, Accuracy: 91.7626724243164, Val Loss: 0.16152532398700714, Val Accuracy: 94.30000305175781\n",
      "Iteration 700, Epoch 1, Loss: 0.2673617899417877, Accuracy: 92.11617279052734, Val Loss: 0.1519828587770462, Val Accuracy: 94.30000305175781\n",
      "Iteration 750, Epoch 1, Loss: 0.25796449184417725, Accuracy: 92.41011810302734, Val Loss: 0.15335862338542938, Val Accuracy: 95.20000457763672\n"
     ]
    }
   ],
   "source": [
    "learning_rate = 3e-3\n",
    "channel_1, channel_2, num_classes = 32, 16, 10\n",
    "\n",
    "def model_init_fn():\n",
    "    model = None\n",
    "    ############################################################################\n",
    "    # TODO: Complete the implementation of model_fn.                           #\n",
    "    ############################################################################\n",
    "    # *****START OF YOUR CODE (DO NOT DELETE/MODIFY THIS LINE)*****\n",
    "\n",
    "    model = ThreeLayerConvNet(channel_1, channel_2, num_classes)\n",
    "\n",
    "    # *****END OF YOUR CODE (DO NOT DELETE/MODIFY THIS LINE)*****\n",
    "    ############################################################################\n",
    "    #                           END OF YOUR CODE                               #\n",
    "    ############################################################################\n",
    "    return model\n",
    "\n",
    "def optimizer_init_fn():\n",
    "    ############################################################################\n",
    "    # TODO: Complete the implementation of model_fn.                           #\n",
    "    ############################################################################\n",
    "    # *****START OF YOUR CODE (DO NOT DELETE/MODIFY THIS LINE)*****\n",
    "\n",
    "    optimizer = tf.keras.optimizers.SGD(learning_rate=learning_rate, momentum=0.9, nesterov=True)\n",
    "\n",
    "    # *****END OF YOUR CODE (DO NOT DELETE/MODIFY THIS LINE)*****\n",
    "    ############################################################################\n",
    "    #                           END OF YOUR CODE                               #\n",
    "    ############################################################################\n",
    "    return optimizer\n",
    "\n",
    "train_part34(model_init_fn, optimizer_init_fn)"
   ]
  },
  {
   "cell_type": "markdown",
   "metadata": {},
   "source": [
    "# Использование Keras Sequential API для реализации последовательных моделей.\n",
    "\n",
    "Пример для полносвязной сети:"
   ]
  },
  {
   "cell_type": "code",
   "execution_count": 18,
   "metadata": {},
   "outputs": [
    {
     "name": "stdout",
     "output_type": "stream",
     "text": [
      "Iteration 0, Epoch 1, Loss: 3.004228115081787, Accuracy: 17.1875, Val Loss: 2.7842531204223633, Val Accuracy: 16.799999237060547\n",
      "Iteration 50, Epoch 1, Loss: 0.877299964427948, Accuracy: 72.67156982421875, Val Loss: 0.624040961265564, Val Accuracy: 81.69999694824219\n",
      "Iteration 100, Epoch 1, Loss: 0.6377058029174805, Accuracy: 80.6621322631836, Val Loss: 0.5205370187759399, Val Accuracy: 83.0\n",
      "Iteration 150, Epoch 1, Loss: 0.5626254081726074, Accuracy: 83.28849029541016, Val Loss: 0.5075733065605164, Val Accuracy: 84.89999389648438\n",
      "Iteration 200, Epoch 1, Loss: 0.5019893646240234, Accuracy: 85.09795379638672, Val Loss: 0.4466663599014282, Val Accuracy: 85.29999542236328\n",
      "Iteration 250, Epoch 1, Loss: 0.47608307003974915, Accuracy: 85.85034942626953, Val Loss: 0.3862399458885193, Val Accuracy: 89.0\n",
      "Iteration 300, Epoch 1, Loss: 0.44580358266830444, Accuracy: 86.79402160644531, Val Loss: 0.4076204001903534, Val Accuracy: 86.29999542236328\n",
      "Iteration 350, Epoch 1, Loss: 0.4208563268184662, Accuracy: 87.63800048828125, Val Loss: 0.37074679136276245, Val Accuracy: 89.60000610351562\n",
      "Iteration 400, Epoch 1, Loss: 0.40292811393737793, Accuracy: 88.08837890625, Val Loss: 0.36318832635879517, Val Accuracy: 88.70000457763672\n",
      "Iteration 450, Epoch 1, Loss: 0.38859042525291443, Accuracy: 88.5462875366211, Val Loss: 0.3416396677494049, Val Accuracy: 90.10000610351562\n",
      "Iteration 500, Epoch 1, Loss: 0.3799085319042206, Accuracy: 88.7225570678711, Val Loss: 0.345491498708725, Val Accuracy: 89.9000015258789\n",
      "Iteration 550, Epoch 1, Loss: 0.36699238419532776, Accuracy: 89.09368896484375, Val Loss: 0.3388594090938568, Val Accuracy: 90.10000610351562\n",
      "Iteration 600, Epoch 1, Loss: 0.35640057921409607, Accuracy: 89.43167877197266, Val Loss: 0.32869940996170044, Val Accuracy: 90.4000015258789\n",
      "Iteration 650, Epoch 1, Loss: 0.34721294045448303, Accuracy: 89.71534729003906, Val Loss: 0.29424402117729187, Val Accuracy: 91.0\n",
      "Iteration 700, Epoch 1, Loss: 0.33909910917282104, Accuracy: 89.94071197509766, Val Loss: 0.3097665011882782, Val Accuracy: 91.19999694824219\n",
      "Iteration 750, Epoch 1, Loss: 0.3335127532482147, Accuracy: 90.102783203125, Val Loss: 0.3044329881668091, Val Accuracy: 90.69999694824219\n"
     ]
    }
   ],
   "source": [
    "learning_rate = 1e-2\n",
    "\n",
    "def model_init_fn():\n",
    "    input_shape = (28, 28, 1)\n",
    "    hidden_layer_size, num_classes = 4000, 10\n",
    "    initializer = tf.initializers.VarianceScaling(scale=2.0)\n",
    "    layers = [\n",
    "        tf.keras.layers.Flatten(input_shape=input_shape),\n",
    "        tf.keras.layers.Dense(hidden_layer_size, activation='relu',\n",
    "                              kernel_initializer=initializer),\n",
    "        tf.keras.layers.Dense(num_classes, activation='softmax', \n",
    "                              kernel_initializer=initializer),\n",
    "    ]\n",
    "    model = tf.keras.Sequential(layers)\n",
    "    return model\n",
    "\n",
    "def optimizer_init_fn():\n",
    "    return tf.keras.optimizers.SGD(learning_rate=learning_rate) \n",
    "\n",
    "train_part34(model_init_fn, optimizer_init_fn)"
   ]
  },
  {
   "cell_type": "markdown",
   "metadata": {},
   "source": [
    "Альтернативный менее гибкий способ обучения:"
   ]
  },
  {
   "cell_type": "code",
   "execution_count": 19,
   "metadata": {},
   "outputs": [
    {
     "name": "stdout",
     "output_type": "stream",
     "text": [
      "766/766 [==============================] - 6s 7ms/step - loss: 0.3367 - sparse_categorical_accuracy: 0.9008 - val_loss: 0.2926 - val_sparse_categorical_accuracy: 0.9090\n",
      "313/313 [==============================] - 6s 20ms/step - loss: 0.2140 - sparse_categorical_accuracy: 0.9371\n"
     ]
    },
    {
     "data": {
      "text/plain": [
       "[0.21395255625247955, 0.9370999932289124]"
      ]
     },
     "execution_count": 19,
     "metadata": {},
     "output_type": "execute_result"
    }
   ],
   "source": [
    "model = model_init_fn()\n",
    "model.compile(optimizer=tf.keras.optimizers.SGD(learning_rate=learning_rate),\n",
    "              loss='sparse_categorical_crossentropy',\n",
    "              metrics=[tf.keras.metrics.sparse_categorical_accuracy])\n",
    "model.fit(X_train, y_train, batch_size=64, epochs=1, validation_data=(X_val, y_val))\n",
    "model.evaluate(X_test, y_test)"
   ]
  },
  {
   "cell_type": "markdown",
   "metadata": {},
   "source": [
    "Перепишите реализацию трехслойной CNN с помощью tf.keras.Sequential API . Обучите модель двумя способами."
   ]
  },
  {
   "cell_type": "code",
   "execution_count": 20,
   "metadata": {},
   "outputs": [
    {
     "name": "stdout",
     "output_type": "stream",
     "text": [
      "Iteration 0, Epoch 1, Loss: 2.302030563354492, Accuracy: 10.9375, Val Loss: 2.3161652088165283, Val Accuracy: 13.500000953674316\n",
      "Iteration 50, Epoch 1, Loss: 2.278923273086548, Accuracy: 19.209558486938477, Val Loss: 2.2712481021881104, Val Accuracy: 20.100000381469727\n",
      "Iteration 100, Epoch 1, Loss: 2.2509891986846924, Accuracy: 24.42759895324707, Val Loss: 2.2192165851593018, Val Accuracy: 30.599998474121094\n",
      "Iteration 150, Epoch 1, Loss: 2.2235517501831055, Accuracy: 29.397764205932617, Val Loss: 2.1592841148376465, Val Accuracy: 40.5\n",
      "Iteration 200, Epoch 1, Loss: 2.1891987323760986, Accuracy: 33.84639358520508, Val Loss: 2.0784430503845215, Val Accuracy: 46.39999771118164\n",
      "Iteration 250, Epoch 1, Loss: 2.1528918743133545, Accuracy: 36.92729187011719, Val Loss: 1.9762403964996338, Val Accuracy: 51.599998474121094\n",
      "Iteration 300, Epoch 1, Loss: 2.107665538787842, Accuracy: 40.23567199707031, Val Loss: 1.8450473546981812, Val Accuracy: 57.0\n",
      "Iteration 350, Epoch 1, Loss: 2.048365831375122, Accuracy: 43.367164611816406, Val Loss: 1.6723664999008179, Val Accuracy: 62.099998474121094\n",
      "Iteration 400, Epoch 1, Loss: 1.9799525737762451, Accuracy: 46.3918342590332, Val Loss: 1.4848048686981201, Val Accuracy: 64.9000015258789\n",
      "Iteration 450, Epoch 1, Loss: 1.903552770614624, Accuracy: 49.30363082885742, Val Loss: 1.294062614440918, Val Accuracy: 69.4000015258789\n",
      "Iteration 500, Epoch 1, Loss: 1.8321619033813477, Accuracy: 51.6529426574707, Val Loss: 1.1354851722717285, Val Accuracy: 71.30000305175781\n",
      "Iteration 550, Epoch 1, Loss: 1.756592869758606, Accuracy: 53.89065170288086, Val Loss: 1.0002694129943848, Val Accuracy: 73.0999984741211\n",
      "Iteration 600, Epoch 1, Loss: 1.680859088897705, Accuracy: 56.03421401977539, Val Loss: 0.9037770628929138, Val Accuracy: 75.30000305175781\n",
      "Iteration 650, Epoch 1, Loss: 1.6122407913208008, Accuracy: 57.92290496826172, Val Loss: 0.8235514163970947, Val Accuracy: 77.10000610351562\n",
      "Iteration 700, Epoch 1, Loss: 1.5487502813339233, Accuracy: 59.59343719482422, Val Loss: 0.7626351118087769, Val Accuracy: 79.5999984741211\n",
      "Iteration 750, Epoch 1, Loss: 1.4898055791854858, Accuracy: 61.09978485107422, Val Loss: 0.7162922620773315, Val Accuracy: 80.0\n"
     ]
    }
   ],
   "source": [
    "def model_init_fn():\n",
    "    \n",
    "    ############################################################################\n",
    "    # TODO: Construct a three-layer ConvNet using tf.keras.Sequential.         #\n",
    "    ############################################################################\n",
    "    # *****START OF YOUR CODE (DO NOT DELETE/MODIFY THIS LINE)*****\n",
    "    model = tf.keras.Sequential([\n",
    "        tf.keras.layers.Conv2D(32, (5, 5), padding='same', activation='relu', input_shape=(28, 28, 1)),\n",
    "        tf.keras.layers.Conv2D(16, (3, 3), padding='same', activation='relu'),\n",
    "        tf.keras.layers.Flatten(),\n",
    "        tf.keras.layers.Dense(10, activation='softmax')\n",
    "    ])\n",
    "    # *****END OF YOUR CODE (DO NOT DELETE/MODIFY THIS LINE)*****\n",
    "    ############################################################################\n",
    "    #                            END OF YOUR CODE                              #\n",
    "    ############################################################################\n",
    "    return model\n",
    "\n",
    "learning_rate = 5e-4\n",
    "def optimizer_init_fn():\n",
    "    ############################################################################\n",
    "    # TODO: Complete the implementation of model_fn.                           #\n",
    "    ############################################################################\n",
    "    # *****START OF YOUR CODE (DO NOT DELETE/MODIFY THIS LINE)*****\n",
    "    optimizer = tf.keras.optimizers.SGD(learning_rate=5e-4)\n",
    "    # *****END OF YOUR CODE (DO NOT DELETE/MODIFY THIS LINE)*****\n",
    "    ############################################################################\n",
    "    #                           END OF YOUR CODE                               #\n",
    "    ############################################################################\n",
    "    return optimizer\n",
    "\n",
    "train_part34(model_init_fn, optimizer_init_fn)"
   ]
  },
  {
   "cell_type": "code",
   "execution_count": 21,
   "metadata": {},
   "outputs": [
    {
     "name": "stdout",
     "output_type": "stream",
     "text": [
      "766/766 [==============================] - 10s 12ms/step - loss: 0.3762 - sparse_categorical_accuracy: 0.8895 - val_loss: 0.2409 - val_sparse_categorical_accuracy: 0.9320\n",
      "313/313 [==============================] - 6s 18ms/step - loss: 0.1630 - sparse_categorical_accuracy: 0.9529\n"
     ]
    },
    {
     "data": {
      "text/plain": [
       "[0.16302064061164856, 0.9528999924659729]"
      ]
     },
     "execution_count": 21,
     "metadata": {},
     "output_type": "execute_result"
    }
   ],
   "source": [
    "model = model_init_fn()\n",
    "model.compile(optimizer='sgd',\n",
    "              loss='sparse_categorical_crossentropy',\n",
    "              metrics=[tf.keras.metrics.sparse_categorical_accuracy])\n",
    "model.fit(X_train, y_train, batch_size=64, epochs=1, validation_data=(X_val, y_val))\n",
    "model.evaluate(X_test, y_test)"
   ]
  },
  {
   "cell_type": "markdown",
   "metadata": {},
   "source": [
    "# Использование Keras Functional API\n",
    "\n",
    "Для реализации более сложных архитектур сети с несколькими входами/выходами, повторным использованием слоев, \"остаточными\" связями (residual connections) необходимо явно указать входные и выходные тензоры. \n",
    "\n",
    "Ниже представлен пример для полносвязной сети. "
   ]
  },
  {
   "cell_type": "code",
   "execution_count": 22,
   "metadata": {},
   "outputs": [
    {
     "name": "stdout",
     "output_type": "stream",
     "text": [
      "(64, 10)\n"
     ]
    }
   ],
   "source": [
    "def two_layer_fc_functional(input_shape, hidden_size, num_classes):  \n",
    "    initializer = tf.initializers.VarianceScaling(scale=2.0)\n",
    "    inputs = tf.keras.Input(shape=input_shape)\n",
    "    flattened_inputs = tf.keras.layers.Flatten()(inputs)\n",
    "    fc1_output = tf.keras.layers.Dense(hidden_size, activation='relu',\n",
    "                                 kernel_initializer=initializer)(flattened_inputs)\n",
    "    scores = tf.keras.layers.Dense(num_classes, activation='softmax',\n",
    "                             kernel_initializer=initializer)(fc1_output)\n",
    "\n",
    "    # Instantiate the model given inputs and outputs.\n",
    "    model = tf.keras.Model(inputs=inputs, outputs=scores)\n",
    "    return model\n",
    "\n",
    "def test_two_layer_fc_functional():\n",
    "    \"\"\" A small unit test to exercise the TwoLayerFC model above. \"\"\"\n",
    "    input_size, hidden_size, num_classes = 50, 42, 10\n",
    "    input_shape = (50,)\n",
    "    \n",
    "    x = tf.zeros((64, input_size))\n",
    "    model = two_layer_fc_functional(input_shape, hidden_size, num_classes)\n",
    "    \n",
    "    with tf.device(device):\n",
    "        scores = model(x)\n",
    "        print(scores.shape)\n",
    "        \n",
    "test_two_layer_fc_functional()"
   ]
  },
  {
   "cell_type": "code",
   "execution_count": 23,
   "metadata": {},
   "outputs": [
    {
     "name": "stdout",
     "output_type": "stream",
     "text": [
      "Iteration 0, Epoch 1, Loss: 3.2287349700927734, Accuracy: 12.5, Val Loss: 2.869480609893799, Val Accuracy: 17.899999618530273\n",
      "Iteration 50, Epoch 1, Loss: 0.9346903562545776, Accuracy: 71.99754333496094, Val Loss: 0.640773594379425, Val Accuracy: 82.20000457763672\n",
      "Iteration 100, Epoch 1, Loss: 0.6718783378601074, Accuracy: 80.39913177490234, Val Loss: 0.5560400485992432, Val Accuracy: 81.9000015258789\n",
      "Iteration 150, Epoch 1, Loss: 0.5895205140113831, Accuracy: 82.80215454101562, Val Loss: 0.527276873588562, Val Accuracy: 84.5\n",
      "Iteration 200, Epoch 1, Loss: 0.524778425693512, Accuracy: 84.76367950439453, Val Loss: 0.4614454507827759, Val Accuracy: 86.69999694824219\n",
      "Iteration 250, Epoch 1, Loss: 0.4956998825073242, Accuracy: 85.55776977539062, Val Loss: 0.3961638808250427, Val Accuracy: 89.0999984741211\n",
      "Iteration 300, Epoch 1, Loss: 0.4621570408344269, Accuracy: 86.57599639892578, Val Loss: 0.4159914255142212, Val Accuracy: 86.4000015258789\n",
      "Iteration 350, Epoch 1, Loss: 0.4352039098739624, Accuracy: 87.46438598632812, Val Loss: 0.3735022246837616, Val Accuracy: 89.80000305175781\n",
      "Iteration 400, Epoch 1, Loss: 0.4155805706977844, Accuracy: 87.92861938476562, Val Loss: 0.37205323576927185, Val Accuracy: 89.0999984741211\n",
      "Iteration 450, Epoch 1, Loss: 0.4011421501636505, Accuracy: 88.37652587890625, Val Loss: 0.35461264848709106, Val Accuracy: 90.0\n",
      "Iteration 500, Epoch 1, Loss: 0.3913050591945648, Accuracy: 88.62275695800781, Val Loss: 0.35020914673805237, Val Accuracy: 90.5999984741211\n",
      "Iteration 550, Epoch 1, Loss: 0.37777209281921387, Accuracy: 89.02847290039062, Val Loss: 0.3463270366191864, Val Accuracy: 90.10000610351562\n",
      "Iteration 600, Epoch 1, Loss: 0.3665768802165985, Accuracy: 89.32508087158203, Val Loss: 0.3444730341434479, Val Accuracy: 90.5\n",
      "Iteration 650, Epoch 1, Loss: 0.3569059669971466, Accuracy: 89.60733032226562, Val Loss: 0.3032158613204956, Val Accuracy: 91.5\n",
      "Iteration 700, Epoch 1, Loss: 0.3485840857028961, Accuracy: 89.85155487060547, Val Loss: 0.31487777829170227, Val Accuracy: 91.0999984741211\n",
      "Iteration 750, Epoch 1, Loss: 0.34254804253578186, Accuracy: 90.01331329345703, Val Loss: 0.306240051984787, Val Accuracy: 91.0999984741211\n"
     ]
    }
   ],
   "source": [
    "input_shape = (28, 28, 1)\n",
    "hidden_size, num_classes = 4000, 10\n",
    "learning_rate = 1e-2\n",
    "\n",
    "def model_init_fn():\n",
    "    return two_layer_fc_functional(input_shape, hidden_size, num_classes)\n",
    "\n",
    "def optimizer_init_fn():\n",
    "    return tf.keras.optimizers.SGD(learning_rate=learning_rate)\n",
    "\n",
    "train_part34(model_init_fn, optimizer_init_fn)"
   ]
  },
  {
   "cell_type": "markdown",
   "metadata": {},
   "source": []
  },
  {
   "cell_type": "markdown",
   "metadata": {},
   "source": [
    "Поэкспериментируйте с архитектурой сверточной сети. Для вашего набора данных вам необходимо получить как минимум 70% accuracy на валидационной выборке за 10 эпох обучения. Опишите все эксперименты и сделайте выводы (без выполнения данного пункта работы приниматься не будут). \n",
    "\n",
    "Эспериментируйте с архитектурой, гиперпараметрами, функцией потерь, регуляризацией, методом оптимизации.  \n",
    "\n",
    "https://www.tensorflow.org/versions/r2.0/api_docs/python/tf/keras/layers/BatchNormalization#methods https://www.tensorflow.org/versions/r2.0/api_docs/python/tf/keras/layers/Dropout#methods"
   ]
  },
  {
   "cell_type": "code",
   "execution_count": 24,
   "metadata": {},
   "outputs": [
    {
     "name": "stdout",
     "output_type": "stream",
     "text": [
      "Iteration 0, Epoch 1, Loss: 2.3320109844207764, Accuracy: 12.5, Val Loss: 2.7032454013824463, Val Accuracy: 32.5\n",
      "Iteration 700, Epoch 1, Loss: 0.12146905064582825, Accuracy: 96.26426696777344, Val Loss: 0.0669647604227066, Val Accuracy: 97.89999389648438\n",
      "Iteration 1400, Epoch 2, Loss: 0.03514748811721802, Accuracy: 98.87056732177734, Val Loss: 0.09132395684719086, Val Accuracy: 97.29999542236328\n",
      "Iteration 2100, Epoch 3, Loss: 0.02056107483804226, Accuracy: 99.30525207519531, Val Loss: 0.07919204980134964, Val Accuracy: 97.5\n",
      "Iteration 2800, Epoch 4, Loss: 0.014073321595788002, Accuracy: 99.52783203125, Val Loss: 0.08352985978126526, Val Accuracy: 97.39999389648438\n",
      "Iteration 3500, Epoch 5, Loss: 0.011354857124388218, Accuracy: 99.64960479736328, Val Loss: 0.10005294531583786, Val Accuracy: 97.39999389648438\n",
      "Iteration 4200, Epoch 6, Loss: 0.008517461828887463, Accuracy: 99.70939636230469, Val Loss: 0.06404273211956024, Val Accuracy: 98.5999984741211\n",
      "Iteration 4900, Epoch 7, Loss: 0.010796318762004375, Accuracy: 99.6618881225586, Val Loss: 0.06557261943817139, Val Accuracy: 98.5999984741211\n",
      "Iteration 5600, Epoch 8, Loss: 0.004158342722803354, Accuracy: 99.89540100097656, Val Loss: 0.07943034172058105, Val Accuracy: 98.5\n",
      "Iteration 6300, Epoch 9, Loss: 0.006168142426759005, Accuracy: 99.78323364257812, Val Loss: 0.08150294423103333, Val Accuracy: 97.79999542236328\n",
      "Iteration 7000, Epoch 10, Loss: 0.0033234539441764355, Accuracy: 99.8831787109375, Val Loss: 0.08576960861682892, Val Accuracy: 98.29999542236328\n"
     ]
    }
   ],
   "source": [
    "class CustomConvNet(tf.keras.Model):\n",
    "    def __init__(self):\n",
    "        super(CustomConvNet, self).__init__()\n",
    "        ############################################################################\n",
    "        # TODO: Construct a model that performs well on CIFAR-10                   #\n",
    "        ############################################################################\n",
    "        # *****START OF YOUR CODE (DO NOT DELETE/MODIFY THIS LINE)*****\n",
    "\n",
    "        self.conv1 = tf.keras.layers.Conv2D(32, (3, 3), padding='same', activation='relu')\n",
    "        self.conv2 = tf.keras.layers.Conv2D(64, (3, 3), padding='same', activation='relu')\n",
    "        self.conv3 = tf.keras.layers.Conv2D(128, (3, 3), padding='same', activation='relu')\n",
    "        self.flatten = tf.keras.layers.Flatten()\n",
    "        self.fc1 = tf.keras.layers.Dense(256, activation='relu')\n",
    "        self.fc2 = tf.keras.layers.Dense(10, activation='softmax')\n",
    "\n",
    "        # *****END OF YOUR CODE (DO NOT DELETE/MODIFY THIS LINE)*****\n",
    "        ############################################################################\n",
    "        #                            END OF YOUR CODE                              #\n",
    "        ############################################################################\n",
    "    \n",
    "    def call(self, input_tensor, training=False):\n",
    "        ############################################################################\n",
    "        # TODO: Construct a model that performs well on CIFAR-10                   #\n",
    "        ############################################################################\n",
    "        # *****START OF YOUR CODE (DO NOT DELETE/MODIFY THIS LINE)*****\n",
    "\n",
    "        x = self.conv1(input_tensor)\n",
    "        x = self.conv2(x)\n",
    "        x = self.conv3(x)\n",
    "        x = self.flatten(x)\n",
    "        x = self.fc1(x)\n",
    "        x = self.fc2(x)\n",
    "        # *****END OF YOUR CODE (DO NOT DELETE/MODIFY THIS LINE)*****\n",
    "        ############################################################################\n",
    "        #                            END OF YOUR CODE                              #\n",
    "        ############################################################################\n",
    "        return x\n",
    "\n",
    "\n",
    "print_every = 700\n",
    "num_epochs = 10\n",
    "\n",
    "model = CustomConvNet()\n",
    "\n",
    "def model_init_fn():\n",
    "    return CustomConvNet()\n",
    "\n",
    "def optimizer_init_fn():\n",
    "    learning_rate = 1e-3\n",
    "    return tf.keras.optimizers.Adam(learning_rate) \n",
    "\n",
    "train_part34(model_init_fn, optimizer_init_fn, num_epochs=num_epochs, is_training=True)"
   ]
  },
  {
   "cell_type": "markdown",
   "metadata": {},
   "source": [
    "Опишите все эксперименты, результаты. Сделайте выводы."
   ]
  },
  {
   "cell_type": "markdown",
   "metadata": {},
   "source": [
    "Я провел несколько экспериментов на 3-х слойной сети с разными функциями активациями (ReLU и sigmoid), также попробовал добавить Dropout, BatchNormalization и использовал разные оптимизаторы на разных датасетах.\n",
    "\n",
    "Ожидаемо, что при сравнении резульатов я получил, что SGD выдает результаты хуже, чем Adam.\n",
    "\n",
    "Ожидаемо получил, что при меньшей скорости обучения тех же результатов приходилось достигать дольше.\n",
    "\n",
    "Использование Dropout and BatchNormalization совсем чуть чуть улучшило показатели на валидационной выборке.\n",
    "\n",
    "Sigmoid показала себя чуть хуже, чем ReLU.\n",
    "\n",
    "В целом экспемирент довольно бессмысленный. Если и делать полный перебор параметров - на это уйдет несколько дней. Стоит добавлять больше слоев в текущую реализацию для данных датасетов? Наверное нет, результаты и так более 95%"
   ]
  },
  {
   "cell_type": "code",
   "execution_count": null,
   "metadata": {},
   "outputs": [],
   "source": []
  }
 ],
 "metadata": {
  "kernelspec": {
   "display_name": "Python 3 (ipykernel)",
   "language": "python",
   "name": "python3"
  },
  "language_info": {
   "codemirror_mode": {
    "name": "ipython",
    "version": 3
   },
   "file_extension": ".py",
   "mimetype": "text/x-python",
   "name": "python",
   "nbconvert_exporter": "python",
   "pygments_lexer": "ipython3",
   "version": "3.8.18"
  }
 },
 "nbformat": 4,
 "nbformat_minor": 2
}
